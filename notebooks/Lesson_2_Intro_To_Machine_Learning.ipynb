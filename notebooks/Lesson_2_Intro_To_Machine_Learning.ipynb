{
 "cells": [
  {
   "cell_type": "markdown",
   "metadata": {
    "colab_type": "text",
    "id": "view-in-github"
   },
   "source": [
    "<a href=\"https://colab.research.google.com/github/Jollyhrothgar/deep_learning/blob/master/Lesson_2_Intro_To_Machine_Learning.ipynb\" target=\"_parent\"><img src=\"https://colab.research.google.com/assets/colab-badge.svg\" alt=\"Open In Colab\"/></a>"
   ]
  },
  {
   "cell_type": "markdown",
   "metadata": {
    "colab_type": "text",
    "id": "GhiiaV9S-kGD"
   },
   "source": [
    "# Converting Celsius to Farenheit\n",
    "\n",
    "Farenheit is related to Celsius in the following way:\n",
    "\n",
    "$$ F = C \\times 1.8 + 32 $$\n",
    "\n",
    "We can obviously invert this relationship, but we can also learn it using ... spoooookie machine learning!\n",
    "\n",
    "And we can generate a mapping of farenheit to celsius like so:\n",
    "\n"
   ]
  },
  {
   "cell_type": "markdown",
   "metadata": {
    "colab_type": "text",
    "id": "wDBle8Z_caED"
   },
   "source": [
    "## Generate the Data"
   ]
  },
  {
   "cell_type": "code",
   "execution_count": 1,
   "metadata": {
    "colab": {},
    "colab_type": "code",
    "id": "XSVYMiGX_DVO"
   },
   "outputs": [],
   "source": [
    "import numpy as np\n",
    "\n",
    "C = np.linspace(0, 100, 100)\n",
    "F = C * 1.8 + 32"
   ]
  },
  {
   "cell_type": "markdown",
   "metadata": {
    "colab_type": "text",
    "id": "82Wi75Cz_Lm-"
   },
   "source": [
    "Learning this mapping is trivial because we already know the fully parameterized form. But, we can do it anyway, =)."
   ]
  },
  {
   "cell_type": "markdown",
   "metadata": {
    "colab_type": "text",
    "id": "RsfmAQyVcdXS"
   },
   "source": [
    "## Use Linear Regression\n",
    "\n",
    "Linear regression assumes a funcitonal form:\n",
    "\n",
    "$$ Y = X \\beta + \\varepsilon $$\n",
    "\n",
    "With Y an input matrix of dimension $N \\times M$ where $N$ is is the number of observations while $M$ is dimensionality of the output (1).\n",
    "\n",
    "$ \\mathbf{Y} = \\begin{pmatrix} y_1 \\\\ y_2 \\\\ \\vdots \\\\ y_n \\end{pmatrix}, \\quad\n",
    "$\n",
    "\n",
    "$ X = \\begin{pmatrix} \\mathbf{x}^\\mathsf{T}_1 \\\\ \\mathbf{x}^\\mathsf{T}_2 \\\\ \\vdots \\\\ \\mathbf{x}^\\mathsf{T}_n \\end{pmatrix}\n",
    " = \\begin{pmatrix} 1 &  x_{11} & \\cdots & x_{1p} \\\\\n",
    " 1 & x_{21} & \\cdots & x_{2p} \\\\\n",
    " \\vdots & \\vdots & \\ddots & \\vdots \\\\\n",
    " 1 & x_{n1} & \\cdots & x_{np}\n",
    " \\end{pmatrix}, $\n",
    "\n",
    "$ \\boldsymbol\\beta = \\begin{pmatrix} \\beta_0 \\\\ \\beta_1 \\\\ \\beta_2 \\\\ \\vdots \\\\ \\beta_p \\end{pmatrix}, \\quad\n",
    " \\boldsymbol\\varepsilon = \\begin{pmatrix} \\varepsilon_1 \\\\ \\varepsilon_2 \\\\ \\vdots \\\\ \\varepsilon_n \\end{pmatrix}.\n",
    "$\n"
   ]
  },
  {
   "cell_type": "code",
   "execution_count": 2,
   "metadata": {
    "colab": {},
    "colab_type": "code",
    "id": "u4_VDJzK_bJM"
   },
   "outputs": [],
   "source": [
    "from sklearn.linear_model import LinearRegression"
   ]
  },
  {
   "cell_type": "code",
   "execution_count": 3,
   "metadata": {
    "colab": {},
    "colab_type": "code",
    "id": "1jH6-1BfH4k2"
   },
   "outputs": [],
   "source": [
    "lin_model = LinearRegression(fit_intercept=True)"
   ]
  },
  {
   "cell_type": "code",
   "execution_count": 4,
   "metadata": {
    "colab": {
     "base_uri": "https://localhost:8080/",
     "height": 34
    },
    "colab_type": "code",
    "id": "H8W1Fen-INuM",
    "outputId": "0f5c4434-5e2b-4049-bbd2-7bbdeca2bef4"
   },
   "outputs": [
    {
     "data": {
      "text/plain": [
       "LinearRegression()"
      ]
     },
     "execution_count": 4,
     "metadata": {
      "tags": []
     },
     "output_type": "execute_result"
    }
   ],
   "source": [
    "lin_model.fit(X=C.reshape(-1, 1), y=F)"
   ]
  },
  {
   "cell_type": "code",
   "execution_count": 5,
   "metadata": {
    "colab": {
     "base_uri": "https://localhost:8080/",
     "height": 34
    },
    "colab_type": "code",
    "id": "drUZc5CPZFPC",
    "outputId": "f207a9ca-d319-42e0-a1d5-2f6e38417173"
   },
   "outputs": [
    {
     "name": "stdout",
     "output_type": "stream",
     "text": [
      "[1.8] 31.99999999999997\n"
     ]
    }
   ],
   "source": [
    "print(lin_model.coef_, lin_model.intercept_)"
   ]
  },
  {
   "cell_type": "markdown",
   "metadata": {
    "colab_type": "text",
    "id": "_A8C0imDbUfv"
   },
   "source": [
    "Looks good to me - we recovered the parameters nicely."
   ]
  },
  {
   "cell_type": "markdown",
   "metadata": {
    "colab_type": "text",
    "id": "btB1ChqHcGhA"
   },
   "source": [
    "## With A Neural Network\n",
    "\n",
    "The simplest neural network is a dense-network."
   ]
  },
  {
   "cell_type": "code",
   "execution_count": 6,
   "metadata": {
    "colab": {},
    "colab_type": "code",
    "id": "0lZWappSci2p"
   },
   "outputs": [],
   "source": [
    "import tensorflow as tf\n",
    "import logging\n",
    "\n",
    "# Remove outputs other than errors.\n",
    "logger = tf.get_logger()\n",
    "logger.setLevel(logging.ERROR)"
   ]
  },
  {
   "cell_type": "markdown",
   "metadata": {
    "colab_type": "text",
    "id": "UjeuR6iUf4BA"
   },
   "source": [
    "### About the Model\n",
    "\n",
    "#### `input_shape`\n",
    "\n",
    "`input_shape` describes the shape of one set of input features - in this case, just a vector of one-dimension. \n",
    "\n",
    "#### `units`\n",
    "\n",
    "`units` describes the number of neurons in the layer - the number of neurons defines how many internal variables the layer must learn (weights) to solve the problem. In this case, the layer is also the final output, because we predict a continuous output.\n",
    "\n",
    "Multilayer networks must match dimensions between neurons - this will become more apparent later on."
   ]
  },
  {
   "cell_type": "code",
   "execution_count": 7,
   "metadata": {
    "colab": {},
    "colab_type": "code",
    "id": "Pz0DMHHecmeP"
   },
   "outputs": [],
   "source": [
    "model = tf.keras.Sequential([\n",
    "  tf.keras.layers.Dense(units=1, input_shape=[1])\n",
    "])"
   ]
  },
  {
   "cell_type": "markdown",
   "metadata": {
    "colab_type": "text",
    "id": "aB_JcYbYgnF1"
   },
   "source": [
    "### Compile the Model\n",
    "\n",
    "A model is compiled by associating the architecture with a *loss function* and an *optimizer function*\n",
    "\n",
    "#### Loss Function\n",
    "\n",
    "The Loss Function defines the method by which we calculate \"goodness\" of the prediction during training - in this case, we choose `mean_squared_error` because we are doing regression and we want to penalize the predictor by the square of the error to encourage it to predict closer to the true value.\n",
    "\n",
    "#### Optimizater Funciton\n",
    "\n",
    "This defines the method by which internal parameters (neuron weights) are adjusted to perform the optimization (reduce the error to zero, if possible). Adam is a pretty popular method, but the O.G. method is gradient descent - which is interesting when it comes to Neural Networks, since back-propagation must be employed (reverse chain-rule) to propagate the loss through each iteration of the gradient descent. Adam is an alternative to stochastic gradient descent.\n",
    "\n",
    "The Optimizer takes a learning rate, which sets how much to change the weights per gradient step."
   ]
  },
  {
   "cell_type": "code",
   "execution_count": 8,
   "metadata": {
    "colab": {},
    "colab_type": "code",
    "id": "XfCyr6u3hnLE"
   },
   "outputs": [],
   "source": [
    "model.compile(loss='mean_squared_error', optimizer=tf.keras.optimizers.Adam(0.1))"
   ]
  },
  {
   "cell_type": "markdown",
   "metadata": {
    "colab_type": "text",
    "id": "133Ty8XZh2TZ"
   },
   "source": [
    "### Train the Model\n",
    "\n",
    "Training the model is done by calling 'fit', and it returns a history object which contains information about the training run, e.g. epochs, loss, accuracy, rms, etc."
   ]
  },
  {
   "cell_type": "code",
   "execution_count": 9,
   "metadata": {
    "colab": {},
    "colab_type": "code",
    "id": "vvOPGh4NiBoN"
   },
   "outputs": [],
   "source": [
    "history = model.fit(C, F, epochs=500, verbose=False)"
   ]
  },
  {
   "cell_type": "code",
   "execution_count": 10,
   "metadata": {
    "colab": {
     "base_uri": "https://localhost:8080/",
     "height": 54
    },
    "colab_type": "code",
    "id": "rlPdOZs3vfwG",
    "outputId": "5d91e058-2785-4c64-c56a-06794fa3fccd"
   },
   "outputs": [
    {
     "name": "stderr",
     "output_type": "stream",
     "text": [
      "Matplotlib created a temporary config/cache directory at /.config/matplotlib because the default path (/tmp/matplotlib-31lm9ugq) is not a writable directory; it is highly recommended to set the MPLCONFIGDIR environment variable to a writable directory, in particular to speed up the import of Matplotlib and to better support multiprocessing.\n"
     ]
    }
   ],
   "source": [
    "import matplotlib.pyplot as plt"
   ]
  },
  {
   "cell_type": "code",
   "execution_count": 11,
   "metadata": {
    "colab": {
     "base_uri": "https://localhost:8080/",
     "height": 312
    },
    "colab_type": "code",
    "id": "IIJqTLNviFst",
    "outputId": "437f326a-89f1-453b-8610-873b3e49dbb3"
   },
   "outputs": [
    {
     "data": {
      "text/plain": [
       "Text(0.5, 0, 'Epochs')"
      ]
     },
     "execution_count": 11,
     "metadata": {
      "tags": []
     },
     "output_type": "execute_result"
    },
    {
     "data": {
      "image/png": "[encoded data removed]",
      "text/plain": [
       "<Figure size 432x288 with 1 Axes>"
      ]
     },
     "metadata": {
      "needs_background": "light",
      "tags": []
     },
     "output_type": "display_data"
    }
   ],
   "source": [
    "plt.plot(history.history['loss'])\n",
    "plt.title(\"Loss vs Epochs\")\n",
    "plt.ylabel(\"Loss\")\n",
    "plt.xlabel(\"Epochs\")"
   ]
  },
  {
   "cell_type": "markdown",
   "metadata": {
    "colab_type": "text",
    "id": "1u2XxoxDiMy0"
   },
   "source": [
    "Lets look at the weights:"
   ]
  },
  {
   "cell_type": "code",
   "execution_count": 12,
   "metadata": {
    "colab": {
     "base_uri": "https://localhost:8080/",
     "height": 34
    },
    "colab_type": "code",
    "id": "wvuGNjpTwOZK",
    "outputId": "d8b96d96-c5c4-4c52-b44b-05cbcaddf88f"
   },
   "outputs": [
    {
     "data": {
      "text/plain": [
       "[array([[1.801015]], dtype=float32), array([31.938854], dtype=float32)]"
      ]
     },
     "execution_count": 12,
     "metadata": {
      "tags": []
     },
     "output_type": "execute_result"
    }
   ],
   "source": [
    "model.layers[0].get_weights()"
   ]
  },
  {
   "cell_type": "markdown",
   "metadata": {
    "colab_type": "text",
    "id": "KMv_cvc_yw2h"
   },
   "source": [
    "Try some predictions"
   ]
  },
  {
   "cell_type": "code",
   "execution_count": 19,
   "metadata": {
    "colab": {
     "base_uri": "https://localhost:8080/",
     "height": 34
    },
    "colab_type": "code",
    "id": "21Pxm3noyyfo",
    "outputId": "3e62acc5-fff9-4462-9c27-7304b7172b51"
   },
   "outputs": [
    {
     "name": "stdout",
     "output_type": "stream",
     "text": [
      "[[212.04036]]\n"
     ]
    }
   ],
   "source": [
    "print(model.predict([100.0]))"
   ]
  },
  {
   "cell_type": "markdown",
   "metadata": {
    "colab_type": "text",
    "id": "0BjBxFJKy0-h"
   },
   "source": [
    "Review what we did - the network was able to get pretty close - the real answer is $100 \\times 1.8 + 32 = 212$. Note too that we explicitly specified the functional form by using a linear regression, which learned these parameters essentially exactly. The neural network learned the correct parameters with its architecture, but we can try a over-specified model just for funzies:"
   ]
  },
  {
   "cell_type": "code",
   "execution_count": 36,
   "metadata": {
    "colab": {},
    "colab_type": "code",
    "id": "qQUlKLZvzRyo"
   },
   "outputs": [],
   "source": [
    "complex_model = tf.keras.Sequential([\n",
    "  tf.keras.layers.Dense(units=4, input_shape=[1]),\n",
    "  tf.keras.layers.Dense(units=4),\n",
    "  tf.keras.layers.Dense(units=1)\n",
    "])\n",
    "complex_model.compile(loss='mean_squared_error', optimizer=tf.keras.optimizers.Adam(0.1))\n",
    "complex_history = complex_model.fit(C, F, epochs=500, verbose=False)"
   ]
  },
  {
   "cell_type": "code",
   "execution_count": 37,
   "metadata": {
    "colab": {
     "base_uri": "https://localhost:8080/",
     "height": 34
    },
    "colab_type": "code",
    "id": "AMg-VXi50P9X",
    "outputId": "6cc92a07-a818-4526-dd5c-e16545dd79ea"
   },
   "outputs": [
    {
     "data": {
      "text/plain": [
       "array([[212.00005]], dtype=float32)"
      ]
     },
     "execution_count": 37,
     "metadata": {
      "tags": []
     },
     "output_type": "execute_result"
    }
   ],
   "source": [
    "model.predict([100.0])"
   ]
  },
  {
   "cell_type": "code",
   "execution_count": 42,
   "metadata": {
    "colab": {
     "base_uri": "https://localhost:8080/",
     "height": 34
    },
    "colab_type": "code",
    "id": "AenE3mv00bD7",
    "outputId": "9245a625-1a24-47e5-8a21-caf8975206df"
   },
   "outputs": [
    {
     "data": {
      "text/plain": [
       "array([[209.70801]], dtype=float32)"
      ]
     },
     "execution_count": 42,
     "metadata": {
      "tags": []
     },
     "output_type": "execute_result"
    }
   ],
   "source": [
    "complex_model.predict([100.0])"
   ]
  },
  {
   "cell_type": "code",
   "execution_count": 43,
   "metadata": {
    "colab": {
     "base_uri": "https://localhost:8080/",
     "height": 312
    },
    "colab_type": "code",
    "id": "sbXJPFKT0eN5",
    "outputId": "bd52c266-06d3-4b70-a90e-fd96ab6e304c"
   },
   "outputs": [
    {
     "data": {
      "text/plain": [
       "Text(0.5, 0, 'Epochs')"
      ]
     },
     "execution_count": 43,
     "metadata": {
      "tags": []
     },
     "output_type": "execute_result"
    },
    {
     "data": {
      "image/png": "[encoded data removed]",
      "text/plain": [
       "<Figure size 432x288 with 1 Axes>"
      ]
     },
     "metadata": {
      "needs_background": "light",
      "tags": []
     },
     "output_type": "display_data"
    }
   ],
   "source": [
    "plt.plot(complex_history.history['loss'])\n",
    "plt.title(\"Loss vs Epochs\")\n",
    "plt.ylabel(\"Loss\")\n",
    "plt.xlabel(\"Epochs\")"
   ]
  },
  {
   "cell_type": "code",
   "execution_count": null,
   "metadata": {
    "colab": {},
    "colab_type": "code",
    "id": "AetxkWab0sjR"
   },
   "outputs": [],
   "source": []
  }
 ],
 "metadata": {
  "colab": {
   "authorship_tag": "ABX9TyO6YdW+BJ8qFeudMC40aTlf",
   "include_colab_link": true,
   "name": "Lesson 2: Intro To Machine Learning.ipynb",
   "provenance": []
  },
  "kernelspec": {
   "display_name": "Python 3",
   "language": "python",
   "name": "python3"
  },
  "language_info": {
   "codemirror_mode": {
    "name": "ipython",
    "version": 3
   },
   "file_extension": ".py",
   "mimetype": "text/x-python",
   "name": "python",
   "nbconvert_exporter": "python",
   "pygments_lexer": "ipython3",
   "version": "3.6.9"
  }
 },
 "nbformat": 4,
 "nbformat_minor": 1
}
