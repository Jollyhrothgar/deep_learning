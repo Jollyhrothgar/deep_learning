{
 "cells": [
  {
   "cell_type": "markdown",
   "metadata": {},
   "source": [
    "# Introduction\n",
    "\n",
    "Convolutional neural networks are cool because the nature of the \"convolution\" adds the property of translational invariance to image recognition tasks - e.g. it doesn't matter where in the image we are, we can still recognize if an object is \"there\".\n",
    "\n",
    "New ideas:\n",
    "\n",
    "## Convolution\n",
    "\n",
    "A kernel is centered over a pixel in the source image. A kernel is a tensor of weights - each corresponding weight and pixel (within the 'view' of the kernel) are multiplied together and summed. This is done for each pixel in the image to create a new convoluted image. For edge pixels, we can use zero-padding.\n",
    "\n",
    "## Max-Pooling\n",
    "\n",
    "Max-pooling is the process of simplifying the data in an input image by summarizing data in uniform regions."
   ]
  },
  {
   "cell_type": "code",
   "execution_count": null,
   "metadata": {},
   "outputs": [],
   "source": []
  }
 ],
 "metadata": {
  "kernelspec": {
   "display_name": "Python 3",
   "language": "python",
   "name": "python3"
  },
  "language_info": {
   "codemirror_mode": {
    "name": "ipython",
    "version": 3
   },
   "file_extension": ".py",
   "mimetype": "text/x-python",
   "name": "python",
   "nbconvert_exporter": "python",
   "pygments_lexer": "ipython3",
   "version": "3.7.8"
  }
 },
 "nbformat": 4,
 "nbformat_minor": 4
}
