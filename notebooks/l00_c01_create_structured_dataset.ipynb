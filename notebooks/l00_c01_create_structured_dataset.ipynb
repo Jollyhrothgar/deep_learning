{
 "cells": [
  {
   "cell_type": "markdown",
   "metadata": {},
   "source": [
    "# Introduction\n",
    "\n",
    "This tutorial is created by following along with [this](https://www.tensorflow.org/tutorials/structured_data/feature_columns) tensorflow tutorial. Goals of following the tutorial include:\n",
    "\n",
    "* Understand how to use structured data (csv, etc) and reshape to input into a model\n",
    "* Use feature-columns as a bridge to map columns from a source datasource to features used to train a model"
   ]
  },
  {
   "cell_type": "markdown",
   "metadata": {},
   "source": [
    "# Dataset\n",
    "\n",
    "We use a simpler version of the [petfinder](https://www.kaggle.com/c/petfinder-adoption-prediction) dataset.\n",
    "\n",
    " Column | Description | Feature Type | Data Type\n",
    "--------|-------------|--------------|------------\n",
    "Type|Type of animal (Dog, Cat)|Categorical|string\n",
    "Age|Age of the pet|Numerical|integer\n",
    "Breed1|Primary breed of the pet|Categorical|string\n",
    "Color1|Color 1 of pet|Categorical|string\n",
    "Color2|Color 2 of pet|Categorical|string\n",
    "MaturitySize|Size at maturity|Categorical|string\n",
    "FurLength|Fur length|Categorical|string\n",
    "Vaccinated|Pet has been vaccinated|Categorical|string\n",
    "Sterilized|Pet has been sterilized|Categorical|string\n",
    "Health|Health Condition|Categorical|string\n",
    "Fee|Adoption Fee|Numerical|integer\n",
    "Description|Profile write-up for this pet|Text|string\n",
    "PhotoAmt|Total uploaded photos for this pet|Numerical|integer\n",
    "AdoptionSpeed|Speed of adoption | Classification | integer"
   ]
  },
  {
   "cell_type": "markdown",
   "metadata": {},
   "source": [
    "# Imports "
   ]
  },
  {
   "cell_type": "code",
   "execution_count": 10,
   "metadata": {},
   "outputs": [],
   "source": [
    "import sklearn\n",
    "import numpy as np\n",
    "import pandas as pd\n",
    "import matplotlib.pyplot as plt\n",
    "import tensorflow as tf\n",
    "from tensorflow import feature_column\n",
    "from tensorflow.keras import layers\n",
    "from sklearn.model_selection import train_test_split\n",
    "import pathlib"
   ]
  },
  {
   "cell_type": "markdown",
   "metadata": {},
   "source": [
    "# Data Processing"
   ]
  },
  {
   "cell_type": "markdown",
   "metadata": {},
   "source": [
    "## Load the dataset"
   ]
  },
  {
   "cell_type": "code",
   "execution_count": 11,
   "metadata": {},
   "outputs": [],
   "source": [
    "dataset_url = 'http://storage.googleapis.com/download.tensorflow.org/data/petfinder-mini.zip'\n",
    "csv_file = 'datasets/petfinder-mini/petfinder-mini.csv'"
   ]
  },
  {
   "cell_type": "code",
   "execution_count": 12,
   "metadata": {},
   "outputs": [
    {
     "name": "stdout",
     "output_type": "stream",
     "text": [
      "7383 Train examples\n",
      "2308 Test examples\n",
      "1846 Validation examples\n"
     ]
    }
   ],
   "source": [
    "tf.keras.utils.get_file(\n",
    "  'petfinder_mini.zip', dataset_url, extract=True, cache_dir='.')\n",
    "\n",
    "dataframe = pd.read_csv(csv_file)\n",
    "\n",
    "# Adoption speed = 4 means unadopted, we do binary classification\n",
    "dataframe['target'] = np.where(dataframe['AdoptionSpeed'] == 4, 0, 1)\n",
    "\n",
    "# Drop unused features\n",
    "del dataframe['AdoptionSpeed']\n",
    "del dataframe['Description']\n",
    "\n",
    "# Split data frame into test/train/validation\n",
    "train, test = train_test_split(dataframe, test_size=0.2)\n",
    "train, val = train_test_split(train, test_size=0.2)\n",
    "\n",
    "# Show our work\n",
    "print(len(train), \"Train examples\")\n",
    "print(len(test), \"Test examples\")\n",
    "print(len(val), \"Validation examples\")"
   ]
  },
  {
   "cell_type": "code",
   "execution_count": 13,
   "metadata": {},
   "outputs": [
    {
     "data": {
      "text/html": [
       "<div>\n",
       "<style scoped>\n",
       "    .dataframe tbody tr th:only-of-type {\n",
       "        vertical-align: middle;\n",
       "    }\n",
       "\n",
       "    .dataframe tbody tr th {\n",
       "        vertical-align: top;\n",
       "    }\n",
       "\n",
       "    .dataframe thead th {\n",
       "        text-align: right;\n",
       "    }\n",
       "</style>\n",
       "<table border=\"1\" class=\"dataframe\">\n",
       "  <thead>\n",
       "    <tr style=\"text-align: right;\">\n",
       "      <th></th>\n",
       "      <th>Type</th>\n",
       "      <th>Age</th>\n",
       "      <th>Breed1</th>\n",
       "      <th>Gender</th>\n",
       "      <th>Color1</th>\n",
       "      <th>Color2</th>\n",
       "      <th>MaturitySize</th>\n",
       "      <th>FurLength</th>\n",
       "      <th>Vaccinated</th>\n",
       "      <th>Sterilized</th>\n",
       "      <th>Health</th>\n",
       "      <th>Fee</th>\n",
       "      <th>PhotoAmt</th>\n",
       "      <th>target</th>\n",
       "    </tr>\n",
       "  </thead>\n",
       "  <tbody>\n",
       "    <tr>\n",
       "      <th>9348</th>\n",
       "      <td>Cat</td>\n",
       "      <td>11</td>\n",
       "      <td>Domestic Short Hair</td>\n",
       "      <td>Male</td>\n",
       "      <td>Golden</td>\n",
       "      <td>No Color</td>\n",
       "      <td>Medium</td>\n",
       "      <td>Short</td>\n",
       "      <td>Yes</td>\n",
       "      <td>Yes</td>\n",
       "      <td>Healthy</td>\n",
       "      <td>0</td>\n",
       "      <td>3</td>\n",
       "      <td>1</td>\n",
       "    </tr>\n",
       "    <tr>\n",
       "      <th>10755</th>\n",
       "      <td>Dog</td>\n",
       "      <td>3</td>\n",
       "      <td>Terrier</td>\n",
       "      <td>Female</td>\n",
       "      <td>Brown</td>\n",
       "      <td>No Color</td>\n",
       "      <td>Medium</td>\n",
       "      <td>Medium</td>\n",
       "      <td>Yes</td>\n",
       "      <td>Yes</td>\n",
       "      <td>Healthy</td>\n",
       "      <td>0</td>\n",
       "      <td>2</td>\n",
       "      <td>1</td>\n",
       "    </tr>\n",
       "    <tr>\n",
       "      <th>799</th>\n",
       "      <td>Cat</td>\n",
       "      <td>3</td>\n",
       "      <td>Domestic Short Hair</td>\n",
       "      <td>Female</td>\n",
       "      <td>Gray</td>\n",
       "      <td>White</td>\n",
       "      <td>Medium</td>\n",
       "      <td>Short</td>\n",
       "      <td>No</td>\n",
       "      <td>No</td>\n",
       "      <td>Healthy</td>\n",
       "      <td>0</td>\n",
       "      <td>7</td>\n",
       "      <td>1</td>\n",
       "    </tr>\n",
       "    <tr>\n",
       "      <th>10673</th>\n",
       "      <td>Dog</td>\n",
       "      <td>1</td>\n",
       "      <td>Mixed Breed</td>\n",
       "      <td>Female</td>\n",
       "      <td>Black</td>\n",
       "      <td>Brown</td>\n",
       "      <td>Medium</td>\n",
       "      <td>Medium</td>\n",
       "      <td>No</td>\n",
       "      <td>No</td>\n",
       "      <td>Healthy</td>\n",
       "      <td>0</td>\n",
       "      <td>2</td>\n",
       "      <td>1</td>\n",
       "    </tr>\n",
       "    <tr>\n",
       "      <th>4718</th>\n",
       "      <td>Cat</td>\n",
       "      <td>24</td>\n",
       "      <td>Persian</td>\n",
       "      <td>Female</td>\n",
       "      <td>Black</td>\n",
       "      <td>White</td>\n",
       "      <td>Medium</td>\n",
       "      <td>Long</td>\n",
       "      <td>Not Sure</td>\n",
       "      <td>Not Sure</td>\n",
       "      <td>Healthy</td>\n",
       "      <td>160</td>\n",
       "      <td>0</td>\n",
       "      <td>0</td>\n",
       "    </tr>\n",
       "  </tbody>\n",
       "</table>\n",
       "</div>"
      ],
      "text/plain": [
       "      Type  Age               Breed1  Gender  Color1    Color2 MaturitySize  \\\n",
       "9348   Cat   11  Domestic Short Hair    Male  Golden  No Color       Medium   \n",
       "10755  Dog    3              Terrier  Female   Brown  No Color       Medium   \n",
       "799    Cat    3  Domestic Short Hair  Female    Gray     White       Medium   \n",
       "10673  Dog    1          Mixed Breed  Female   Black     Brown       Medium   \n",
       "4718   Cat   24              Persian  Female   Black     White       Medium   \n",
       "\n",
       "      FurLength Vaccinated Sterilized   Health  Fee  PhotoAmt  target  \n",
       "9348      Short        Yes        Yes  Healthy    0         3       1  \n",
       "10755    Medium        Yes        Yes  Healthy    0         2       1  \n",
       "799       Short         No         No  Healthy    0         7       1  \n",
       "10673    Medium         No         No  Healthy    0         2       1  \n",
       "4718       Long   Not Sure   Not Sure  Healthy  160         0       0  "
      ]
     },
     "execution_count": 13,
     "metadata": {},
     "output_type": "execute_result"
    }
   ],
   "source": [
    "train.head()"
   ]
  },
  {
   "cell_type": "code",
   "execution_count": 14,
   "metadata": {},
   "outputs": [
    {
     "data": {
      "text/plain": [
       "dict_keys(['Type', 'Age', 'Breed1', 'Gender', 'Color1', 'Color2', 'MaturitySize', 'FurLength', 'Vaccinated', 'Sterilized', 'Health', 'Fee', 'PhotoAmt', 'target'])"
      ]
     },
     "execution_count": 14,
     "metadata": {},
     "output_type": "execute_result"
    }
   ],
   "source": [
    "# This splits a dataframe into series which are mapped to column names, all\n",
    "# series share the same index.\n",
    "dict(dataframe).keys()"
   ]
  },
  {
   "cell_type": "code",
   "execution_count": 15,
   "metadata": {},
   "outputs": [
    {
     "data": {
      "text/plain": [
       "0         3\n",
       "1         1\n",
       "2         1\n",
       "3         4\n",
       "4         1\n",
       "         ..\n",
       "11532    24\n",
       "11533     1\n",
       "11534     6\n",
       "11535     9\n",
       "11536     1\n",
       "Name: Age, Length: 11537, dtype: int64"
      ]
     },
     "execution_count": 15,
     "metadata": {},
     "output_type": "execute_result"
    }
   ],
   "source": [
    "dict(dataframe)['Age']"
   ]
  },
  {
   "cell_type": "code",
   "execution_count": 21,
   "metadata": {},
   "outputs": [],
   "source": [
    "def df_to_dataset(df, shuffle=True, batch_size=32):\n",
    "  df = df.copy(deep=True)\n",
    "  labels = df.pop('target')\n",
    "  ds = tf.data.Dataset.from_tensor_slices((dict(df), labels))\n",
    "  if shuffle:\n",
    "    # Shuffle the entire dataset.\n",
    "    ds = ds.shuffle(buffer_size=len(df))\n",
    "  \n",
    "  # Configure the dataset to return batches of batch_size\n",
    "  ds = ds.batch(batch_size)\n",
    "  return ds"
   ]
  },
  {
   "cell_type": "code",
   "execution_count": 22,
   "metadata": {},
   "outputs": [],
   "source": [
    "batch_size = 5\n",
    "train_ds = df_to_dataset(train, batch_size=batch_size)\n",
    "test_ds = df_to_dataset(test, batch_size=batch_size)\n",
    "val_ds = df_to_dataset(val, batch_size=batch_size)"
   ]
  },
  {
   "cell_type": "code",
   "execution_count": 23,
   "metadata": {},
   "outputs": [
    {
     "name": "stdout",
     "output_type": "stream",
     "text": [
      "Every feature: ['Type', 'Age', 'Breed1', 'Gender', 'Color1', 'Color2', 'MaturitySize', 'FurLength', 'Vaccinated', 'Sterilized', 'Health', 'Fee', 'PhotoAmt']\n",
      "A batch of ages: tf.Tensor([30  3  2  3  5], shape=(5,), dtype=int64)\n",
      "A batch of targets: tf.Tensor([1 1 1 1 0], shape=(5,), dtype=int64)\n"
     ]
    }
   ],
   "source": [
    "# Iterate through one batch\n",
    "for feature_batch, label_batch in train_ds.take(1):\n",
    "  print('Every feature:', list(feature_batch.keys()))\n",
    "  print('A batch of ages:', feature_batch['Age'])\n",
    "  print('A batch of targets:', label_batch )"
   ]
  },
  {
   "cell_type": "markdown",
   "metadata": {},
   "source": [
    "Okay - so, we have a dictionary of features that is returned from a call to the batch generator - cool!\n",
    "\n",
    "We can leverage `feature_columns` to further transform the dataframe."
   ]
  },
  {
   "cell_type": "code",
   "execution_count": 24,
   "metadata": {},
   "outputs": [],
   "source": [
    "example_batch = next(iter(train_ds))[0]"
   ]
  },
  {
   "cell_type": "code",
   "execution_count": 58,
   "metadata": {},
   "outputs": [],
   "source": [
    "# A utility method to create a feature column\n",
    "# and to transform a batch of data\n",
    "def demo(feature_column):\n",
    "  \n",
    "  # We define the input calculation here using dense feature layer.\n",
    "  feature_layer = layers.DenseFeatures(feature_column)\n",
    "  \n",
    "  # Here, we are operating on the example batch which is in the global scope.\n",
    "  print(feature_layer(example_batch).numpy())\n",
    "  print(tf.shape(feature_layer(example_batch)))"
   ]
  },
  {
   "cell_type": "markdown",
   "metadata": {},
   "source": [
    "Above, we've created a feature layer from a feature column using DenseFeatures - this tells the model to expect input data in the form of a dense Tensor, which is a Tensor where all values are defined in contiguous memory (a performance improvement)."
   ]
  },
  {
   "cell_type": "markdown",
   "metadata": {},
   "source": [
    "## Numeric columns\n",
    "\n",
    "The output of a feature column becomes the input to the model (using the demo function defined above, we will be able to see exactly how each column from the dataframe is transformed). A numeric column is the simplest type of column. It is used to represent real valued features. When using this column, your model will receive the column value from the dataframe unchanged.\n"
   ]
  },
  {
   "cell_type": "code",
   "execution_count": 59,
   "metadata": {},
   "outputs": [
    {
     "name": "stdout",
     "output_type": "stream",
     "text": [
      "[[5.]\n",
      " [2.]\n",
      " [4.]\n",
      " [4.]\n",
      " [8.]]\n",
      "tf.Tensor([5 1], shape=(2,), dtype=int32)\n"
     ]
    }
   ],
   "source": [
    "photo_count = feature_column.numeric_column('PhotoAmt')\n",
    "demo(photo_count)"
   ]
  },
  {
   "cell_type": "markdown",
   "metadata": {},
   "source": [
    "## Bucketized columns\n",
    "\n",
    "Often, you don't want to feed a number directly into the model, but instead split its value into different categories based on numerical ranges. Consider raw data that represents a person's age. Instead of representing age as a numeric column, we could split the age into several buckets using a bucketized column. Notice the one-hot values below describe which age range each row matches.\n",
    "\n",
    "Bucketizing works as follows, e.g. for boundaries `[0., 1., 2.]` $\\rightarrow$\n",
    "`[-inf, 0.), [0., 1.), [1., 2.), and [2., +inf)`"
   ]
  },
  {
   "cell_type": "code",
   "execution_count": 60,
   "metadata": {},
   "outputs": [
    {
     "name": "stdout",
     "output_type": "stream",
     "text": [
      "[[0. 0. 0. 0. 1. 0.]\n",
      " [0. 0. 0. 1. 0. 0.]\n",
      " [0. 0. 0. 0. 0. 1.]\n",
      " [0. 0. 1. 0. 0. 0.]\n",
      " [0. 0. 1. 0. 0. 0.]]\n",
      "tf.Tensor([5 6], shape=(2,), dtype=int32)\n"
     ]
    }
   ],
   "source": [
    "age = feature_column.numeric_column('Age')\n",
    "\n",
    "# Divide data into four buckets:\n",
    "# Equivalent to 'one-hot' encoding buckets:\n",
    "# [bucket_1, bucket_2, bucket_3, bucket_4]\n",
    "# bucket_1 = 1, when -inf <= age < 1\n",
    "# bucket_2 = 1, when 1 <= age < 3\n",
    "# bucket_3 = 1, when 3 <= age < 5\n",
    "# bucket_4 = 1, when 5 <= age < +inf\n",
    "age_buckets = feature_column.bucketized_column(age, boundaries=[1, 2, 3, 4, 5])\n",
    "\n",
    "demo(age_buckets)"
   ]
  },
  {
   "cell_type": "code",
   "execution_count": 61,
   "metadata": {},
   "outputs": [
    {
     "data": {
      "text/plain": [
       "array([4, 3, 8, 2, 2])"
      ]
     },
     "execution_count": 61,
     "metadata": {},
     "output_type": "execute_result"
    }
   ],
   "source": [
    "example_batch['Age'].numpy()"
   ]
  },
  {
   "cell_type": "markdown",
   "metadata": {},
   "source": [
    "## Categorical columns\n",
    "\n",
    "In this dataset, Type is represented as a string (e.g. 'Dog', or 'Cat'). We cannot feed strings directly to a model. Instead, we must first map them to numeric values. The categorical vocabulary columns provide a way to represent strings as a one-hot vector (much like you have seen above with age buckets). The vocabulary can be passed as a list using categorical_column_with_vocabulary_list, or loaded from a file using categorical_column_with_vocabulary_file.\n",
    "\n"
   ]
  },
  {
   "cell_type": "code",
   "execution_count": 32,
   "metadata": {},
   "outputs": [
    {
     "name": "stdout",
     "output_type": "stream",
     "text": [
      "[[0. 1.]\n",
      " [1. 0.]\n",
      " [0. 1.]\n",
      " [0. 1.]\n",
      " [0. 1.]]\n"
     ]
    }
   ],
   "source": [
    "animal_type = feature_column.categorical_column_with_vocabulary_list(\n",
    "      'Type', ['Cat', 'Dog'])\n",
    "\n",
    "animal_type_one_hot = feature_column.indicator_column(animal_type)\n",
    "demo(animal_type_one_hot)"
   ]
  },
  {
   "cell_type": "markdown",
   "metadata": {},
   "source": [
    "## Embedding columns\n",
    "\n",
    "Suppose instead of having just a few possible strings, we have thousands (or more) values per category. For a number of reasons, as the number of categories grow large, it becomes infeasible to train a neural network using one-hot encodings. We can use an embedding column to overcome this limitation. Instead of representing the data as a one-hot vector of many dimensions, an embedding column represents that data as a lower-dimensional, dense vector in which each cell can contain any number, not just 0 or 1. The size of the embedding (8, in the example below) is a parameter that must be tuned.\n",
    "\n"
   ]
  },
  {
   "cell_type": "code",
   "execution_count": 34,
   "metadata": {},
   "outputs": [
    {
     "name": "stdout",
     "output_type": "stream",
     "text": [
      "['Tabby' 'Domestic Medium Hair' 'Mixed Breed' 'Domestic Short Hair'\n",
      " 'Domestic Long Hair' 'Terrier' 'Persian' 'Rottweiler'\n",
      " 'Jack Russell Terrier' 'Shih Tzu' 'Labrador Retriever' 'Silky Terrier'\n",
      " 'Bombay' 'Husky' 'Schnauzer' 'Golden Retriever' 'Siberian Husky' 'Collie'\n",
      " 'German Shepherd Dog' 'Siamese' 'Calico' 'American Staffordshire Terrier'\n",
      " 'Turkish Van' 'Doberman Pinscher' 'Oriental Short Hair' 'Beagle'\n",
      " 'Ragdoll' 'Cocker Spaniel' 'Poodle' 'Black Labrador Retriever' 'Bengal'\n",
      " 'Shar Pei' 'Spitz' 'Birman' 'Belgian Shepherd Malinois'\n",
      " 'American Shorthair' 'Belgian Shepherd Laekenois' '0'\n",
      " 'Jack Russell Terrier (Parson Russell Terrier)' 'Shepherd' 'Corgi'\n",
      " 'Pit Bull Terrier' 'Oriental Tabby' 'Miniature Pinscher' 'Manx' 'Boxer'\n",
      " 'Dachshund' 'Chihuahua' 'Snowshoe' 'Rat Terrier' 'Tiger' 'Silver'\n",
      " 'Maine Coon' 'German Pinscher' 'Russian Blue' 'Tuxedo' 'Lhasa Apso'\n",
      " 'Pomeranian' 'Whippet' 'English Bulldog' 'Bull Terrier'\n",
      " 'Yellow Labrador Retriever' 'Dalmatian'\n",
      " 'West Highland White Terrier Westie' 'Pekingese' 'Wheaten Terrier'\n",
      " 'Havana' 'Egyptian Mau' 'Tortoiseshell' 'American Curl'\n",
      " 'British Shorthair' 'Cavalier King Charles Spaniel' 'Munsterlander'\n",
      " 'Singapura' 'Turkish Angora' 'Maltese' 'Applehead Siamese'\n",
      " 'Oriental Long Hair' 'Standard Poodle' 'Samoyed' 'Mountain Dog'\n",
      " 'Coonhound' 'Japanese Bobtail' 'Abyssinian' 'Bobtail'\n",
      " 'Glen of Imaal Terrier' 'Yorkshire Terrier Yorkie'\n",
      " 'English Cocker Spaniel' 'Siberian' 'Border Collie' 'Field Spaniel'\n",
      " 'Australian Terrier' 'Burmese' 'Pug' 'Toy Fox Terrier' 'French Bulldog'\n",
      " 'Norwegian Forest Cat' 'Boston Terrier' 'Australian Kelpie'\n",
      " 'Basset Hound' 'Belgian Shepherd Dog Sheepdog' 'Bullmastiff' 'Korat'\n",
      " 'Hound' 'Great Dane' 'American Wirehair' 'White German Shepherd'\n",
      " 'Burmilla' 'Ocicat' 'Saint Bernard' 'Javanese' 'Australian Shepherd'\n",
      " 'Retriever' 'Black Mouth Cur' 'Old English Sheepdog' 'Weimaraner'\n",
      " 'Chausie' 'Pointer' 'Staffordshire Bull Terrier' 'Dilute Tortoiseshell'\n",
      " 'Greyhound' 'Shetland Sheepdog Sheltie' 'Wirehaired Terrier'\n",
      " 'American Water Spaniel' 'Irish Setter' 'Flat-coated Retriever'\n",
      " 'Irish Wolfhound' 'Tonkinese' 'Nebelung' 'Irish Terrier'\n",
      " 'Bedlington Terrier' 'Cymric' 'American Bulldog' 'Mastiff' 'Akita'\n",
      " 'Basenji' 'Somali' 'English Springer Spaniel' 'Chow Chow' 'Shiba Inu'\n",
      " 'Rhodesian Ridgeback' 'Papillon' 'Setter' 'Chartreux' 'Dilute Calico'\n",
      " 'Fox Terrier' 'Balinese' 'Extra-Toes Cat (Hemingway Polydactyl)'\n",
      " 'English Pointer' 'Sphynx (hairless cat)' 'Lowchen' 'Kai Dog'\n",
      " 'German Spitz' 'Exotic Shorthair' 'Welsh Corgi' 'Himalayan'\n",
      " 'Manchester Terrier' 'Spaniel' 'Swedish Vallhund' 'Chinese Crested Dog'\n",
      " 'Cattle Dog' 'Torbie' 'Ragamuffin' 'Lancashire Heeler' 'Foxhound'\n",
      " 'Dutch Shepherd'] 166\n"
     ]
    }
   ],
   "source": [
    "print(dataframe['Breed1'].unique(), dataframe['Breed1'].nunique())"
   ]
  },
  {
   "cell_type": "code",
   "execution_count": 89,
   "metadata": {},
   "outputs": [
    {
     "name": "stdout",
     "output_type": "stream",
     "text": [
      "[[-0.5104577   0.31132406 -0.20699535 -0.28123707  0.1460514  -0.49737886\n",
      "  -0.6864196  -0.6024819 ]\n",
      " [-0.17774807  0.44354272  0.09084421 -0.3304656   0.35342184 -0.51239336\n",
      "  -0.05898505 -0.27805814]\n",
      " [-0.5104577   0.31132406 -0.20699535 -0.28123707  0.1460514  -0.49737886\n",
      "  -0.6864196  -0.6024819 ]\n",
      " [-0.5104577   0.31132406 -0.20699535 -0.28123707  0.1460514  -0.49737886\n",
      "  -0.6864196  -0.6024819 ]\n",
      " [-0.5104577   0.31132406 -0.20699535 -0.28123707  0.1460514  -0.49737886\n",
      "  -0.6864196  -0.6024819 ]]\n",
      "tf.Tensor([5 8], shape=(2,), dtype=int32)\n"
     ]
    }
   ],
   "source": [
    "# Notice the input to the embedding column is the categorical column\n",
    "# we previously created\n",
    "\n",
    "breed1 = feature_column.categorical_column_with_vocabulary_list('Breed1', dataframe.Breed1.unique())\n",
    "breed1_embedding = feature_column.embedding_column(breed1, dimension=8)\n",
    "demo(breed1_embedding)"
   ]
  },
  {
   "cell_type": "markdown",
   "metadata": {},
   "source": [
    "Interesting...there are a few other ways to embed large categorical data, which are discussed [here](https://medium.com/ml-book/demonstration-of-tensorflow-feature-columns-tf-feature-column-3bfcca4ca5c4#:~:text=An%20embedding%20column%20stores%20categorical,vector%20than%20an%20indicator%20column.&text=As%20an%20embedding%20column.,contains%20a%203%2Delement%20vector.)"
   ]
  },
  {
   "cell_type": "markdown",
   "metadata": {},
   "source": [
    "## Hashed feature columns\n",
    "Another way to represent a categorical column with a large number of values is to use a categorical_column_with_hash_bucket. This feature column calculates a hash value of the input, then selects one of the hash_bucket_size buckets to encode a string. When using this column, you do not need to provide the vocabulary, and you can choose to make the number of hash_buckets significantly smaller than the number of actual categories to save space."
   ]
  },
  {
   "cell_type": "code",
   "execution_count": 43,
   "metadata": {},
   "outputs": [
    {
     "name": "stdout",
     "output_type": "stream",
     "text": [
      "[[0. 0. 0. 0. 0. 0. 0. 1. 0. 0.]\n",
      " [0. 0. 0. 0. 0. 0. 0. 0. 0. 1.]\n",
      " [0. 0. 0. 0. 0. 0. 0. 1. 0. 0.]\n",
      " [0. 0. 0. 0. 0. 0. 0. 1. 0. 0.]\n",
      " [0. 0. 0. 0. 0. 0. 0. 1. 0. 0.]]\n"
     ]
    }
   ],
   "source": [
    "breed1_hashed = feature_column.categorical_column_with_hash_bucket(\n",
    "      'Breed1', hash_bucket_size=10)\n",
    "demo(feature_column.indicator_column(breed1_hashed))"
   ]
  },
  {
   "cell_type": "markdown",
   "metadata": {},
   "source": [
    "## Crossed feature columns\n",
    "\n",
    "Combining features into a single feature, better known as feature crosses, enables a model to learn separate weights for each combination of features. Here, we will create a new feature that is the cross of Age and Type. Note that crossed_column does not build the full table of all possible combinations (which could be very large). Instead, it is backed by a hashed_column, so you can choose how large the table is."
   ]
  },
  {
   "cell_type": "code",
   "execution_count": 44,
   "metadata": {},
   "outputs": [
    {
     "name": "stdout",
     "output_type": "stream",
     "text": [
      "[[0. 0. 0. 0. 0. 0. 1. 0. 0. 0.]\n",
      " [0. 1. 0. 0. 0. 0. 0. 0. 0. 0.]\n",
      " [0. 0. 0. 0. 0. 0. 0. 0. 1. 0.]\n",
      " [0. 1. 0. 0. 0. 0. 0. 0. 0. 0.]\n",
      " [0. 1. 0. 0. 0. 0. 0. 0. 0. 0.]]\n"
     ]
    }
   ],
   "source": [
    "crossed_feature = feature_column.crossed_column([age_buckets, animal_type], hash_bucket_size=10)\n",
    "demo(feature_column.indicator_column(crossed_feature))"
   ]
  },
  {
   "cell_type": "markdown",
   "metadata": {},
   "source": [
    "# Build a Model with Feature Columns (Arbitrary Selection)\n",
    "\n",
    "We specify feature_layer_inputs for every feature column that is a direct input, and let tensorflow take care of the rest - for example, the input type for the dog-breed is a string (`tf.string`) even though it gets transformed into buckets of float32."
   ]
  },
  {
   "cell_type": "code",
   "execution_count": 96,
   "metadata": {},
   "outputs": [],
   "source": [
    "feature_columns = []\n",
    "feature_layer_inputs = {}\n",
    "\n",
    "# numeric cols\n",
    "for header in ['PhotoAmt', 'Fee', 'Age']:\n",
    "  feature_columns.append(feature_column.numeric_column(header))\n",
    "  feature_layer_inputs[header] = tf.keras.Input(shape=(1,), name=header)\n",
    "\n",
    "# bucketized cols\n",
    "# This column depends on Age, so we don't hav eto specify an input for it.\n",
    "age = feature_column.numeric_column('Age')\n",
    "age_buckets = feature_column.bucketized_column(age, boundaries=[1, 2, 3, 4, 5])\n",
    "feature_columns.append(age_buckets)\n",
    "\n",
    "# indicator_columns\n",
    "indicator_column_names = ['Type', 'Color1', 'Color2', 'Gender', 'MaturitySize',\n",
    "                          'FurLength', 'Vaccinated', 'Sterilized', 'Health']\n",
    "for col_name in indicator_column_names:\n",
    "  categorical_column = feature_column.categorical_column_with_vocabulary_list(\n",
    "      col_name, dataframe[col_name].unique())\n",
    "  indicator_column = feature_column.indicator_column(categorical_column)\n",
    "  feature_columns.append(indicator_column)\n",
    "  feature_layer_inputs[col_name] = tf.keras.Input(shape=(1,), name=col_name, dtype=tf.string)\n",
    "\n",
    "# embedding columns\n",
    "breed1 = feature_column.categorical_column_with_vocabulary_list(\n",
    "      'Breed1', dataframe.Breed1.unique())\n",
    "breed1_embedding = feature_column.embedding_column(breed1, dimension=8)\n",
    "feature_columns.append(breed1_embedding)\n",
    "feature_layer_inputs['Breed1'] = tf.keras.Input(shape=(8,), name='Breed1', dtype=tf.string)\n",
    "\n",
    "# crossed columns\n",
    "# This feature is a cross, so we define inputs separately.\n",
    "age_type_feature = feature_column.crossed_column([age_buckets, animal_type], hash_bucket_size=100)\n",
    "feature_columns.append(feature_column.indicator_column(age_type_feature))\n",
    "\n",
    "# Create the input layer, which takes the feature columns.\n",
    "feature_layer = tf.keras.layers.DenseFeatures(feature_columns)"
   ]
  },
  {
   "cell_type": "code",
   "execution_count": 97,
   "metadata": {},
   "outputs": [],
   "source": [
    "batch_size = 32\n",
    "train_ds = df_to_dataset(train, batch_size=batch_size)\n",
    "val_ds = df_to_dataset(val, shuffle=False, batch_size=batch_size)\n",
    "test_ds = df_to_dataset(test, shuffle=False, batch_size=batch_size)"
   ]
  },
  {
   "cell_type": "markdown",
   "metadata": {},
   "source": [
    "## Sequential API Solution\n",
    "\n",
    "```python\n",
    "model = tf.keras.Sequential([\n",
    "  feature_layer,\n",
    "  layers.Dense(128, activation='relu'),\n",
    "  layers.Dense(128, activation='relu'),\n",
    "  layers.Dropout(.1),\n",
    "  layers.Dense(1)\n",
    "])\n",
    "```"
   ]
  },
  {
   "cell_type": "markdown",
   "metadata": {},
   "source": [
    "## Functional API Solution"
   ]
  },
  {
   "cell_type": "code",
   "execution_count": 109,
   "metadata": {},
   "outputs": [],
   "source": [
    "# outputs is the input into the model\n",
    "feature_layer_outputs = feature_layer(feature_layer_inputs)\n",
    "l1 = layers.Dense(128, activation='relu')(feature_layer_outputs)\n",
    "l2 = layers.Dense(128, activation='relu')(l1)\n",
    "l3 = layers.Dropout(.1)(l2)\n",
    "prediction = layers.Dense(1)(l3)\n",
    "\n",
    "model = tf.keras.Model(inputs=[v for v in feature_layer_inputs.values()], outputs=prediction)\n",
    "\n",
    "model.compile(\n",
    "  optimizer='adam',\n",
    "  loss=tf.keras.losses.BinaryCrossentropy(from_logits=True),\n",
    "  metrics=['accuracy']\n",
    ")"
   ]
  },
  {
   "cell_type": "code",
   "execution_count": 110,
   "metadata": {},
   "outputs": [
    {
     "name": "stdout",
     "output_type": "stream",
     "text": [
      "Epoch 1/10\n",
      "WARNING:tensorflow:Model was constructed with shape (None, 8) for input Tensor(\"Breed1_7:0\", shape=(None, 8), dtype=string), but it was called on an input with incompatible shape (None, 1).\n",
      "WARNING:tensorflow:Model was constructed with shape (None, 8) for input Tensor(\"Breed1_7:0\", shape=(None, 8), dtype=string), but it was called on an input with incompatible shape (None, 1).\n",
      "231/231 [==============================] - ETA: 0s - loss: 0.6953 - accuracy: 0.7005WARNING:tensorflow:Model was constructed with shape (None, 8) for input Tensor(\"Breed1_7:0\", shape=(None, 8), dtype=string), but it was called on an input with incompatible shape (None, 1).\n",
      "231/231 [==============================] - 2s 8ms/step - loss: 0.6953 - accuracy: 0.7005 - val_loss: 0.6136 - val_accuracy: 0.7438\n",
      "Epoch 2/10\n",
      "231/231 [==============================] - 1s 6ms/step - loss: 0.5601 - accuracy: 0.7215 - val_loss: 0.5635 - val_accuracy: 0.6950\n",
      "Epoch 3/10\n",
      "231/231 [==============================] - 1s 6ms/step - loss: 0.5081 - accuracy: 0.7356 - val_loss: 0.4950 - val_accuracy: 0.7492\n",
      "Epoch 4/10\n",
      "231/231 [==============================] - 1s 6ms/step - loss: 0.5015 - accuracy: 0.7356 - val_loss: 0.4945 - val_accuracy: 0.7492\n",
      "Epoch 5/10\n",
      "231/231 [==============================] - 1s 6ms/step - loss: 0.4926 - accuracy: 0.7356 - val_loss: 0.4937 - val_accuracy: 0.7514\n",
      "Epoch 6/10\n",
      "231/231 [==============================] - 1s 6ms/step - loss: 0.4828 - accuracy: 0.7422 - val_loss: 0.4987 - val_accuracy: 0.7486\n",
      "Epoch 7/10\n",
      "231/231 [==============================] - 1s 6ms/step - loss: 0.4781 - accuracy: 0.7485 - val_loss: 0.5140 - val_accuracy: 0.7589\n",
      "Epoch 8/10\n",
      "231/231 [==============================] - 1s 6ms/step - loss: 0.4737 - accuracy: 0.7520 - val_loss: 0.4971 - val_accuracy: 0.7519\n",
      "Epoch 9/10\n",
      "231/231 [==============================] - 1s 6ms/step - loss: 0.4700 - accuracy: 0.7528 - val_loss: 0.5207 - val_accuracy: 0.6956\n",
      "Epoch 10/10\n",
      "231/231 [==============================] - 1s 6ms/step - loss: 0.4694 - accuracy: 0.7489 - val_loss: 0.4965 - val_accuracy: 0.7421\n"
     ]
    }
   ],
   "source": [
    "history = model.fit(train_ds, validation_data=val_ds, epochs=10)"
   ]
  },
  {
   "cell_type": "code",
   "execution_count": 111,
   "metadata": {},
   "outputs": [
    {
     "name": "stdout",
     "output_type": "stream",
     "text": [
      "Model: \"functional_3\"\n",
      "__________________________________________________________________________________________________\n",
      "Layer (type)                    Output Shape         Param #     Connected to                     \n",
      "==================================================================================================\n",
      "Age (InputLayer)                [(None, 1)]          0                                            \n",
      "__________________________________________________________________________________________________\n",
      "Breed1 (InputLayer)             [(None, 8)]          0                                            \n",
      "__________________________________________________________________________________________________\n",
      "Color1 (InputLayer)             [(None, 1)]          0                                            \n",
      "__________________________________________________________________________________________________\n",
      "Color2 (InputLayer)             [(None, 1)]          0                                            \n",
      "__________________________________________________________________________________________________\n",
      "Fee (InputLayer)                [(None, 1)]          0                                            \n",
      "__________________________________________________________________________________________________\n",
      "FurLength (InputLayer)          [(None, 1)]          0                                            \n",
      "__________________________________________________________________________________________________\n",
      "Gender (InputLayer)             [(None, 1)]          0                                            \n",
      "__________________________________________________________________________________________________\n",
      "Health (InputLayer)             [(None, 1)]          0                                            \n",
      "__________________________________________________________________________________________________\n",
      "MaturitySize (InputLayer)       [(None, 1)]          0                                            \n",
      "__________________________________________________________________________________________________\n",
      "PhotoAmt (InputLayer)           [(None, 1)]          0                                            \n",
      "__________________________________________________________________________________________________\n",
      "Sterilized (InputLayer)         [(None, 1)]          0                                            \n",
      "__________________________________________________________________________________________________\n",
      "Type (InputLayer)               [(None, 1)]          0                                            \n",
      "__________________________________________________________________________________________________\n",
      "Vaccinated (InputLayer)         [(None, 1)]          0                                            \n",
      "__________________________________________________________________________________________________\n",
      "dense_features_26 (DenseFeature (None, 150)          1328        Age[0][0]                        \n",
      "                                                                 Breed1[0][0]                     \n",
      "                                                                 Color1[0][0]                     \n",
      "                                                                 Color2[0][0]                     \n",
      "                                                                 Fee[0][0]                        \n",
      "                                                                 FurLength[0][0]                  \n",
      "                                                                 Gender[0][0]                     \n",
      "                                                                 Health[0][0]                     \n",
      "                                                                 MaturitySize[0][0]               \n",
      "                                                                 PhotoAmt[0][0]                   \n",
      "                                                                 Sterilized[0][0]                 \n",
      "                                                                 Type[0][0]                       \n",
      "                                                                 Vaccinated[0][0]                 \n",
      "__________________________________________________________________________________________________\n",
      "dense_7 (Dense)                 (None, 128)          19328       dense_features_26[4][0]          \n",
      "__________________________________________________________________________________________________\n",
      "dense_8 (Dense)                 (None, 128)          16512       dense_7[0][0]                    \n",
      "__________________________________________________________________________________________________\n",
      "dropout_2 (Dropout)             (None, 128)          0           dense_8[0][0]                    \n",
      "__________________________________________________________________________________________________\n",
      "dense_9 (Dense)                 (None, 1)            129         dropout_2[0][0]                  \n",
      "==================================================================================================\n",
      "Total params: 37,297\n",
      "Trainable params: 37,297\n",
      "Non-trainable params: 0\n",
      "__________________________________________________________________________________________________\n"
     ]
    }
   ],
   "source": [
    "model.summary()"
   ]
  },
  {
   "cell_type": "code",
   "execution_count": 114,
   "metadata": {},
   "outputs": [
    {
     "data": {
      "text/plain": [
       "<matplotlib.axes._subplots.AxesSubplot at 0x7f81649dbd90>"
      ]
     },
     "execution_count": 114,
     "metadata": {},
     "output_type": "execute_result"
    },
    {
     "data": {
      "image/png": "[encoded data removed]",
      "text/plain": [
       "<Figure size 432x288 with 1 Axes>"
      ]
     },
     "metadata": {
      "needs_background": "light"
     },
     "output_type": "display_data"
    }
   ],
   "source": [
    "pd.DataFrame(history.history).plot()"
   ]
  },
  {
   "cell_type": "code",
   "execution_count": 115,
   "metadata": {},
   "outputs": [
    {
     "name": "stdout",
     "output_type": "stream",
     "text": [
      "73/73 [==============================] - 0s 4ms/step - loss: 0.4970 - accuracy: 0.7400\n",
      "Accuracy 0.7400346398353577\n"
     ]
    }
   ],
   "source": [
    "loss, accuracy = model.evaluate(test_ds)\n",
    "print(\"Accuracy\", accuracy)\n"
   ]
  },
  {
   "cell_type": "code",
   "execution_count": null,
   "metadata": {},
   "outputs": [],
   "source": []
  }
 ],
 "metadata": {
  "kernelspec": {
   "display_name": "Python 3",
   "language": "python",
   "name": "python3"
  },
  "language_info": {
   "codemirror_mode": {
    "name": "ipython",
    "version": 3
   },
   "file_extension": ".py",
   "mimetype": "text/x-python",
   "name": "python",
   "nbconvert_exporter": "python",
   "pygments_lexer": "ipython3",
   "version": "3.7.8"
  }
 },
 "nbformat": 4,
 "nbformat_minor": 4
}
